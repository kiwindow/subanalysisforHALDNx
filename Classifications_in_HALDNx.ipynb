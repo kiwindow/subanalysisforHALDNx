{
  "nbformat": 4,
  "nbformat_minor": 0,
  "metadata": {
    "accelerator": "GPU",
    "colab": {
      "name": "Classifications_in_HALDNx.ipynb",
      "provenance": [],
      "collapsed_sections": [
        "gWEoj2ybnPCP",
        "YBexfWfKnJRE",
        "nAbJ574f6ygI",
        "qAmJfMD761lx",
        "exSrhoxD7Vv9",
        "GhuidbFyb_cP",
        "fIP7auhddSFH",
        "IWP2suTrryO7",
        "q4fic8vYwCtH",
        "B9LkYrPp1tH0",
        "taoUjLfi2HrJ",
        "Fg8R8Sd5fa2T"
      ]
    },
    "kernelspec": {
      "display_name": "Python 3",
      "language": "python",
      "name": "python3"
    },
    "language_info": {
      "codemirror_mode": {
        "name": "ipython",
        "version": 3
      },
      "file_extension": ".py",
      "mimetype": "text/x-python",
      "name": "python",
      "nbconvert_exporter": "python",
      "pygments_lexer": "ipython3",
      "version": "3.7.2"
    }
  },
  "cells": [
    {
      "cell_type": "markdown",
      "metadata": {
        "id": "3wq0J8gN6ZJF",
        "colab_type": "text"
      },
      "source": [
        "- How to evaluate the following program on Google Colaboratory (You can use it for free)\n",
        "- 0. Chrome is a recommended web browser in the following analysis.\n",
        "- 1. Create your google account. https://support.google.com/accounts/answer/27441?hl=ja\n",
        "- 2. Log in to your Google drive.  https://drive.google.com/drive/my-drive?hl=ja \n",
        "- 3. When you are in the My Drive directory, upload this file (Classifications_in_HALDNx.ipynb) and halddata.csv file on the same directory. \n",
        "- 4. Open this file (Classifications_in_HALDNx.ipynb) with Google Colaboratory.\n",
        "- 5. Then evaluate the following cells in turn, by pressing shift + return."
      ]
    },
    {
      "cell_type": "markdown",
      "metadata": {
        "colab_type": "text",
        "id": "rgRTmPPGpn40"
      },
      "source": [
        "# [1] Environmental Setting for Google Colaboratory"
      ]
    },
    {
      "cell_type": "markdown",
      "metadata": {
        "colab_type": "text",
        "id": "gWEoj2ybnPCP"
      },
      "source": [
        "## 1) Loading dataset and splitting them into training data and test data\n",
        "\n",
        "\n",
        "\n",
        "\n"
      ]
    },
    {
      "cell_type": "code",
      "metadata": {
        "colab_type": "code",
        "id": "MhxuknuJo62r",
        "outputId": "f4db3814-0e0d-490b-d2bc-436b8568b832",
        "colab": {
          "base_uri": "https://localhost:8080/",
          "height": 122
        }
      },
      "source": [
        "# Mounting on the Google's service\n",
        "from google.colab import drive\n",
        "drive.mount('/content/drive')"
      ],
      "execution_count": 1,
      "outputs": [
        {
          "output_type": "stream",
          "text": [
            "Go to this URL in a browser: https://accounts.google.com/o/oauth2/auth?client_id=947318989803-6bn6qk8qdgf4n4g3pfee6491hc0brc4i.apps.googleusercontent.com&redirect_uri=urn%3aietf%3awg%3aoauth%3a2.0%3aoob&response_type=code&scope=email%20https%3a%2f%2fwww.googleapis.com%2fauth%2fdocs.test%20https%3a%2f%2fwww.googleapis.com%2fauth%2fdrive%20https%3a%2f%2fwww.googleapis.com%2fauth%2fdrive.photos.readonly%20https%3a%2f%2fwww.googleapis.com%2fauth%2fpeopleapi.readonly\n",
            "\n",
            "Enter your authorization code:\n",
            "··········\n",
            "Mounted at /content/drive\n"
          ],
          "name": "stdout"
        }
      ]
    },
    {
      "cell_type": "code",
      "metadata": {
        "colab_type": "code",
        "id": "pru6CL2Zpupp",
        "colab": {}
      },
      "source": [
        "# Importing Modules\n",
        "import numpy as np\n",
        "import pandas as pd\n",
        "%matplotlib inline\n",
        "import seaborn as sns"
      ],
      "execution_count": 0,
      "outputs": []
    },
    {
      "cell_type": "code",
      "metadata": {
        "colab_type": "code",
        "id": "6jwzXhIMV6t8",
        "outputId": "ad1b2dc7-9fdb-4e62-dc2d-0918c50c108d",
        "colab": {
          "base_uri": "https://localhost:8080/",
          "height": 34
        }
      },
      "source": [
        "# Importing dataset for the analysis   (The pass for the dataset should be ajdusted if needed.)\n",
        "df = pd.read_csv('drive/My Drive/halddata.csv')\n",
        "df.shape"
      ],
      "execution_count": 3,
      "outputs": [
        {
          "output_type": "execute_result",
          "data": {
            "text/plain": [
              "(128, 17)"
            ]
          },
          "metadata": {
            "tags": []
          },
          "execution_count": 3
        }
      ]
    },
    {
      "cell_type": "code",
      "metadata": {
        "colab_type": "code",
        "id": "nJMl-m6GWPVb",
        "outputId": "0df763f1-212e-4fc4-be17-fff0c78d4172",
        "colab": {
          "base_uri": "https://localhost:8080/",
          "height": 323
        }
      },
      "source": [
        "# Checking the completeness of the data\n",
        "df.isnull().sum()"
      ],
      "execution_count": 4,
      "outputs": [
        {
          "output_type": "execute_result",
          "data": {
            "text/plain": [
              "dHt                      0\n",
              "dBw                      0\n",
              "dMale                    0\n",
              "dAge                     0\n",
              "ArteryNumber             0\n",
              "MaxRenalMedialFat        0\n",
              "MedianMedialRenalFat     0\n",
              "MedianLateraRenallFat    0\n",
              "AreaRenalFat             0\n",
              "CTvalueRenalFat          0\n",
              "AreaSubcutaFat           0\n",
              "ThicknessMidlineFat      0\n",
              "TP                       0\n",
              "Alb                      0\n",
              "TG                       0\n",
              "TC                       0\n",
              "LongOpeTime              0\n",
              "dtype: int64"
            ]
          },
          "metadata": {
            "tags": []
          },
          "execution_count": 4
        }
      ]
    },
    {
      "cell_type": "code",
      "metadata": {
        "colab_type": "code",
        "id": "v9hRu-Prp13F",
        "colab": {}
      },
      "source": [
        "# Taking explanatory data and target value\n",
        "t = df.iloc[:, -1].values\n",
        "x = df.iloc[:, :-1].values\n",
        "# Data splitting for the Hold-out method\n",
        "from sklearn.model_selection import train_test_split\n",
        "x_train, x_test, t_train, t_test = train_test_split(x, t, test_size=0.3, random_state=0)"
      ],
      "execution_count": 0,
      "outputs": []
    },
    {
      "cell_type": "markdown",
      "metadata": {
        "colab_type": "text",
        "id": "YBexfWfKnJRE"
      },
      "source": [
        "## 2) Identifying traing data and test data when random_state=0 "
      ]
    },
    {
      "cell_type": "code",
      "metadata": {
        "colab_type": "code",
        "id": "m6T-TZAU39bF",
        "outputId": "e75b02ef-ad6b-42d4-f0b0-5da103a78299",
        "colab": {
          "base_uri": "https://localhost:8080/",
          "height": 34
        }
      },
      "source": [
        "# The dimensions of the training data matrix without the target column\n",
        "x_train.shape"
      ],
      "execution_count": 6,
      "outputs": [
        {
          "output_type": "execute_result",
          "data": {
            "text/plain": [
              "(89, 16)"
            ]
          },
          "metadata": {
            "tags": []
          },
          "execution_count": 6
        }
      ]
    },
    {
      "cell_type": "code",
      "metadata": {
        "colab_type": "code",
        "id": "3PCyNXFYncro",
        "outputId": "d45362a4-7b09-4d1e-b694-a903c1adc46d",
        "colab": {
          "base_uri": "https://localhost:8080/",
          "height": 34
        }
      },
      "source": [
        "t_train.shape"
      ],
      "execution_count": 7,
      "outputs": [
        {
          "output_type": "execute_result",
          "data": {
            "text/plain": [
              "(89,)"
            ]
          },
          "metadata": {
            "tags": []
          },
          "execution_count": 7
        }
      ]
    },
    {
      "cell_type": "code",
      "metadata": {
        "colab_type": "code",
        "id": "OvCEzt9-qNcg",
        "outputId": "e139ecfe-5bde-4a12-8645-726df4fd6c71",
        "colab": {
          "base_uri": "https://localhost:8080/",
          "height": 34
        }
      },
      "source": [
        "# The dimensions of the test data matrix without the target column\n",
        "x_test.shape"
      ],
      "execution_count": 8,
      "outputs": [
        {
          "output_type": "execute_result",
          "data": {
            "text/plain": [
              "(39, 16)"
            ]
          },
          "metadata": {
            "tags": []
          },
          "execution_count": 8
        }
      ]
    },
    {
      "cell_type": "code",
      "metadata": {
        "colab_type": "code",
        "id": "S-InrGE7Wp6m",
        "outputId": "53817627-6ec2-4b85-99a3-2642d471e362",
        "colab": {
          "base_uri": "https://localhost:8080/",
          "height": 34
        }
      },
      "source": [
        "t_test.shape"
      ],
      "execution_count": 9,
      "outputs": [
        {
          "output_type": "execute_result",
          "data": {
            "text/plain": [
              "(39,)"
            ]
          },
          "metadata": {
            "tags": []
          },
          "execution_count": 9
        }
      ]
    },
    {
      "cell_type": "code",
      "metadata": {
        "colab_type": "code",
        "id": "39x1m-HQgL_6",
        "outputId": "7a8f3398-399a-44d4-c88f-8e41b724ba89",
        "colab": {
          "base_uri": "https://localhost:8080/",
          "height": 136
        }
      },
      "source": [
        "# The explanatory variables in the training data\n",
        "x_train"
      ],
      "execution_count": 10,
      "outputs": [
        {
          "output_type": "execute_result",
          "data": {
            "text/plain": [
              "array([[170. ,  76. ,   1. , ...,   4.6, 189. , 183. ],\n",
              "       [167. ,  67. ,   0. , ...,   4.3,  43. , 164. ],\n",
              "       [168. ,  81. ,   1. , ...,   4.5,  82. , 208. ],\n",
              "       ...,\n",
              "       [151. ,  50. ,   0. , ...,   4.6,  69. , 233. ],\n",
              "       [142. ,  44. ,   0. , ...,   4.3,  60. , 208. ],\n",
              "       [165. ,  64. ,   1. , ...,   4. , 193. , 268. ]])"
            ]
          },
          "metadata": {
            "tags": []
          },
          "execution_count": 10
        }
      ]
    },
    {
      "cell_type": "code",
      "metadata": {
        "id": "dO4uvP288_lr",
        "colab_type": "code",
        "colab": {
          "base_uri": "https://localhost:8080/",
          "height": 102
        },
        "outputId": "f7958a53-aff0-46b0-8d59-ff9f26f8d752"
      },
      "source": [
        "# The target variable in the training data\n",
        "t_train"
      ],
      "execution_count": 44,
      "outputs": [
        {
          "output_type": "execute_result",
          "data": {
            "text/plain": [
              "array([1, 0, 1, 0, 1, 0, 0, 0, 0, 1, 0, 0, 0, 0, 0, 1, 0, 1, 1, 0, 0, 1,\n",
              "       0, 1, 1, 0, 0, 0, 1, 0, 1, 1, 1, 0, 0, 1, 0, 0, 0, 0, 0, 1, 0, 0,\n",
              "       0, 0, 0, 0, 0, 1, 0, 0, 0, 0, 0, 1, 0, 0, 0, 1, 0, 1, 0, 0, 0, 0,\n",
              "       0, 0, 0, 0, 0, 1, 0, 0, 0, 0, 1, 1, 0, 1, 0, 0, 0, 0, 0, 0, 0, 0,\n",
              "       0])"
            ]
          },
          "metadata": {
            "tags": []
          },
          "execution_count": 44
        }
      ]
    },
    {
      "cell_type": "code",
      "metadata": {
        "colab_type": "code",
        "id": "51OJqGSJgQUV",
        "colab": {}
      },
      "source": [
        "# Concatenating explanatory variables and a target variable in the training data\n",
        "px_train = pd.DataFrame(x_train)\n",
        "pt_train = pd.DataFrame(t_train)"
      ],
      "execution_count": 0,
      "outputs": []
    },
    {
      "cell_type": "code",
      "metadata": {
        "colab_type": "code",
        "id": "wZd75Vm3gf24",
        "outputId": "131ce170-ee59-460e-bce8-dc8c4c55c88d",
        "colab": {
          "base_uri": "https://localhost:8080/",
          "height": 34
        }
      },
      "source": [
        "px_train.shape"
      ],
      "execution_count": 12,
      "outputs": [
        {
          "output_type": "execute_result",
          "data": {
            "text/plain": [
              "(89, 16)"
            ]
          },
          "metadata": {
            "tags": []
          },
          "execution_count": 12
        }
      ]
    },
    {
      "cell_type": "code",
      "metadata": {
        "colab_type": "code",
        "id": "hUu3eglbgieI",
        "outputId": "c03b4cae-1bcc-4a04-ec18-6dc1efbf8a68",
        "colab": {
          "base_uri": "https://localhost:8080/",
          "height": 34
        }
      },
      "source": [
        "pt_train.shape"
      ],
      "execution_count": 13,
      "outputs": [
        {
          "output_type": "execute_result",
          "data": {
            "text/plain": [
              "(89, 1)"
            ]
          },
          "metadata": {
            "tags": []
          },
          "execution_count": 13
        }
      ]
    },
    {
      "cell_type": "code",
      "metadata": {
        "colab_type": "code",
        "id": "cdIGSfBtfsg4",
        "colab": {}
      },
      "source": [
        "\n",
        "ds_train = pd.concat([px_train, pt_train], axis=1)"
      ],
      "execution_count": 0,
      "outputs": []
    },
    {
      "cell_type": "code",
      "metadata": {
        "colab_type": "code",
        "id": "9PO0aZCYgtMN",
        "outputId": "39e8ee3d-c636-4a07-8c86-6b3222e568ff",
        "colab": {
          "base_uri": "https://localhost:8080/",
          "height": 34
        }
      },
      "source": [
        "ds_train.shape"
      ],
      "execution_count": 15,
      "outputs": [
        {
          "output_type": "execute_result",
          "data": {
            "text/plain": [
              "(89, 17)"
            ]
          },
          "metadata": {
            "tags": []
          },
          "execution_count": 15
        }
      ]
    },
    {
      "cell_type": "code",
      "metadata": {
        "colab_type": "code",
        "id": "dRoYj53ugybO",
        "colab": {}
      },
      "source": [
        "# Exporting the training data\n",
        "ds_train.to_csv('drive/My Drive/trainingdata.csv', index=False)"
      ],
      "execution_count": 0,
      "outputs": []
    },
    {
      "cell_type": "code",
      "metadata": {
        "colab_type": "code",
        "id": "ztUj7SxskhM8",
        "colab": {}
      },
      "source": [
        "# Concatenating explanatory variables and a target variable in the test data\n",
        "px_test = pd.DataFrame(x_test)\n",
        "pt_test = pd.DataFrame(t_test)"
      ],
      "execution_count": 0,
      "outputs": []
    },
    {
      "cell_type": "code",
      "metadata": {
        "colab_type": "code",
        "id": "VjxSjjTNl2Pb",
        "outputId": "c5de6d98-d831-49a8-b1ec-8a7d85579bb4",
        "colab": {
          "base_uri": "https://localhost:8080/",
          "height": 34
        }
      },
      "source": [
        "px_test.shape"
      ],
      "execution_count": 18,
      "outputs": [
        {
          "output_type": "execute_result",
          "data": {
            "text/plain": [
              "(39, 16)"
            ]
          },
          "metadata": {
            "tags": []
          },
          "execution_count": 18
        }
      ]
    },
    {
      "cell_type": "code",
      "metadata": {
        "colab_type": "code",
        "id": "Nx-kDMKEl2K5",
        "colab": {}
      },
      "source": [
        "ds_test=pd.concat([px_test, pt_test], axis=1)"
      ],
      "execution_count": 0,
      "outputs": []
    },
    {
      "cell_type": "code",
      "metadata": {
        "colab_type": "code",
        "id": "JZ_jJnEZl2Dh",
        "outputId": "8d06478e-4ecd-41c4-cbcc-f9e91015acc7",
        "colab": {
          "base_uri": "https://localhost:8080/",
          "height": 34
        }
      },
      "source": [
        "ds_test.shape"
      ],
      "execution_count": 20,
      "outputs": [
        {
          "output_type": "execute_result",
          "data": {
            "text/plain": [
              "(39, 17)"
            ]
          },
          "metadata": {
            "tags": []
          },
          "execution_count": 20
        }
      ]
    },
    {
      "cell_type": "code",
      "metadata": {
        "colab_type": "code",
        "id": "9Hv-OrjemIxm",
        "colab": {}
      },
      "source": [
        "# Exporting the test data\n",
        "ds_test.to_csv('drive/My Drive/testdata.csv', index=False)"
      ],
      "execution_count": 0,
      "outputs": []
    },
    {
      "cell_type": "markdown",
      "metadata": {
        "colab_type": "text",
        "id": "TBQuFQJRrrLd"
      },
      "source": [
        "# [2]. Classification with Machine Learning methods"
      ]
    },
    {
      "cell_type": "markdown",
      "metadata": {
        "colab_type": "text",
        "id": "t7qicyTg5WYp"
      },
      "source": [
        "## 1) Classification with Linear Regression\n",
        "\n"
      ]
    },
    {
      "cell_type": "markdown",
      "metadata": {
        "colab_type": "text",
        "id": "nAbJ574f6ygI"
      },
      "source": [
        "### 1. Multiple Linear Regression: accuracy=17.5%"
      ]
    },
    {
      "cell_type": "code",
      "metadata": {
        "colab_type": "code",
        "id": "X4-_UuN85bwe",
        "outputId": "ea7227a2-d7e1-4e49-b9d8-60764c53f327",
        "colab": {
          "base_uri": "https://localhost:8080/",
          "height": 34
        }
      },
      "source": [
        "from sklearn.linear_model import LinearRegression\n",
        "model = LinearRegression()\n",
        "model.fit(x_train, t_train)\n",
        "model.score(x_train, t_train)"
      ],
      "execution_count": 22,
      "outputs": [
        {
          "output_type": "execute_result",
          "data": {
            "text/plain": [
              "0.5674853191163145"
            ]
          },
          "metadata": {
            "tags": []
          },
          "execution_count": 22
        }
      ]
    },
    {
      "cell_type": "code",
      "metadata": {
        "colab_type": "code",
        "id": "yGZeI6Ws6lOk",
        "outputId": "d16967e4-61f5-4466-f437-ec39482f871b",
        "colab": {
          "base_uri": "https://localhost:8080/",
          "height": 34
        }
      },
      "source": [
        "model.score(x_test, t_test)"
      ],
      "execution_count": 23,
      "outputs": [
        {
          "output_type": "execute_result",
          "data": {
            "text/plain": [
              "0.17478288812316312"
            ]
          },
          "metadata": {
            "tags": []
          },
          "execution_count": 23
        }
      ]
    },
    {
      "cell_type": "markdown",
      "metadata": {
        "id": "M1Y8Z5mxI17z",
        "colab_type": "text"
      },
      "source": [
        "### 2. Lasso Regression with Grid Search and Cross Validation: accurary=17.3%"
      ]
    },
    {
      "cell_type": "code",
      "metadata": {
        "colab_type": "code",
        "outputId": "74701404-4855-4184-843b-b26401d7ec24",
        "id": "gZE3_29yJODn",
        "colab": {
          "base_uri": "https://localhost:8080/",
          "height": 34
        }
      },
      "source": [
        "from sklearn.linear_model import Lasso\n",
        "from sklearn.model_selection import GridSearchCV\n",
        "params = {'alpha': [0.001, 0.01, 0.1, 1.0, 10, 100]}\n",
        "model_cv = GridSearchCV(Lasso(), params, cv=5, return_train_score=False)\n",
        "model_cv.fit(x_train, t_train)\n",
        "model = model_cv.best_estimator_\n",
        "model.score(x_train, t_train)"
      ],
      "execution_count": 0,
      "outputs": [
        {
          "output_type": "execute_result",
          "data": {
            "text/plain": [
              "0.4057781915983808"
            ]
          },
          "metadata": {
            "tags": []
          },
          "execution_count": 10
        }
      ]
    },
    {
      "cell_type": "code",
      "metadata": {
        "colab_type": "code",
        "outputId": "e6b9e405-95ad-445b-9193-902a5ae85501",
        "id": "Mn3BoVc2JODv",
        "colab": {
          "base_uri": "https://localhost:8080/",
          "height": 34
        }
      },
      "source": [
        "model.score(x_test, t_test)"
      ],
      "execution_count": 0,
      "outputs": [
        {
          "output_type": "execute_result",
          "data": {
            "text/plain": [
              "0.17315811143195703"
            ]
          },
          "metadata": {
            "tags": []
          },
          "execution_count": 11
        }
      ]
    },
    {
      "cell_type": "markdown",
      "metadata": {
        "id": "Pwq8-4SFJSfd",
        "colab_type": "text"
      },
      "source": [
        "### 3. Ridge Regression with Grid Search and Cross Validation: accuracy=17.3%"
      ]
    },
    {
      "cell_type": "code",
      "metadata": {
        "colab_type": "code",
        "outputId": "f44c9f08-62ac-4a96-c0dc-9e59b052ea39",
        "id": "3bFTpVT7JgXv",
        "colab": {
          "base_uri": "https://localhost:8080/",
          "height": 34
        }
      },
      "source": [
        "from sklearn.linear_model import Ridge\n",
        "from sklearn.model_selection import GridSearchCV\n",
        "params = {'alpha': [0.001, 0.01, 0.1, 1.0, 10, 100]}\n",
        "model_cv = GridSearchCV(Lasso(), params, cv=5, return_train_score=False)\n",
        "model_cv.fit(x_train, t_train)\n",
        "model = model_cv.best_estimator_\n",
        "model.score(x_train, t_train)"
      ],
      "execution_count": 0,
      "outputs": [
        {
          "output_type": "execute_result",
          "data": {
            "text/plain": [
              "0.4057781915983808"
            ]
          },
          "metadata": {
            "tags": []
          },
          "execution_count": 12
        }
      ]
    },
    {
      "cell_type": "code",
      "metadata": {
        "colab_type": "code",
        "outputId": "46eb22b7-c7ae-4a32-b2a9-6a8a8c3af6f6",
        "id": "snDc565sJgX0",
        "colab": {
          "base_uri": "https://localhost:8080/",
          "height": 34
        }
      },
      "source": [
        "model.score(x_test, t_test)"
      ],
      "execution_count": 0,
      "outputs": [
        {
          "output_type": "execute_result",
          "data": {
            "text/plain": [
              "0.17315811143195703"
            ]
          },
          "metadata": {
            "tags": []
          },
          "execution_count": 13
        }
      ]
    },
    {
      "cell_type": "markdown",
      "metadata": {
        "colab_type": "text",
        "id": "qAmJfMD761lx"
      },
      "source": [
        "### 4. Partial Least Square (PLS): accuracy=20.1%\n",
        "\n",
        "---\n",
        "\n"
      ]
    },
    {
      "cell_type": "code",
      "metadata": {
        "colab_type": "code",
        "id": "6N60rmnW683x",
        "outputId": "b4ad1e5e-0e36-4430-f280-63051d87d6d9",
        "colab": {
          "base_uri": "https://localhost:8080/",
          "height": 34
        }
      },
      "source": [
        "from sklearn.cross_decomposition import PLSRegression\n",
        "model = PLSRegression(n_components=7) \n",
        "model.fit(x_train, t_train)\n",
        "model.score(x_train, t_train)"
      ],
      "execution_count": 24,
      "outputs": [
        {
          "output_type": "execute_result",
          "data": {
            "text/plain": [
              "0.561911263293182"
            ]
          },
          "metadata": {
            "tags": []
          },
          "execution_count": 24
        }
      ]
    },
    {
      "cell_type": "code",
      "metadata": {
        "colab_type": "code",
        "id": "0ycWGM6z7NlG",
        "outputId": "9dd47607-1872-4e58-e0dc-60576c31620f",
        "colab": {
          "base_uri": "https://localhost:8080/",
          "height": 34
        }
      },
      "source": [
        "model.score(x_test, t_test)"
      ],
      "execution_count": 25,
      "outputs": [
        {
          "output_type": "execute_result",
          "data": {
            "text/plain": [
              "0.20060247855543678"
            ]
          },
          "metadata": {
            "tags": []
          },
          "execution_count": 25
        }
      ]
    },
    {
      "cell_type": "markdown",
      "metadata": {
        "colab_type": "text",
        "id": "exSrhoxD7Vv9"
      },
      "source": [
        "### 5. PLS with k-fold Cross Validation: accuracy=35.4%"
      ]
    },
    {
      "cell_type": "code",
      "metadata": {
        "colab_type": "code",
        "id": "MYMk86Gu7gbL",
        "outputId": "ded430ba-7f51-4820-ceee-5f4932e88b14",
        "colab": {
          "base_uri": "https://localhost:8080/",
          "height": 34
        }
      },
      "source": [
        "from sklearn.model_selection import GridSearchCV\n",
        "params = {'n_components': list(range(1, 10))}\n",
        "\n",
        "model_cv = GridSearchCV(PLSRegression(), params, cv=5, return_train_score=False)\n",
        "model_cv.fit(x_train, t_train)\n",
        "model_cv.best_params_"
      ],
      "execution_count": 26,
      "outputs": [
        {
          "output_type": "execute_result",
          "data": {
            "text/plain": [
              "{'n_components': 1}"
            ]
          },
          "metadata": {
            "tags": []
          },
          "execution_count": 26
        }
      ]
    },
    {
      "cell_type": "code",
      "metadata": {
        "colab_type": "code",
        "id": "Hx9NpzbM8fTl",
        "outputId": "e09f176d-9ecd-49ec-f820-8ff48dea5e77",
        "colab": {
          "base_uri": "https://localhost:8080/",
          "height": 34
        }
      },
      "source": [
        "# The model  with the best hyper-parameter\n",
        "model = model_cv.best_estimator_\n",
        "model.score(x_train, t_train)"
      ],
      "execution_count": 27,
      "outputs": [
        {
          "output_type": "execute_result",
          "data": {
            "text/plain": [
              "0.443307891636469"
            ]
          },
          "metadata": {
            "tags": []
          },
          "execution_count": 27
        }
      ]
    },
    {
      "cell_type": "code",
      "metadata": {
        "colab_type": "code",
        "id": "cdiSp8lz8fE9",
        "outputId": "6f1fec9c-f387-42b0-8f93-fdc4c5832c88",
        "colab": {
          "base_uri": "https://localhost:8080/",
          "height": 34
        }
      },
      "source": [
        "model.score(x_test, t_test)"
      ],
      "execution_count": 28,
      "outputs": [
        {
          "output_type": "execute_result",
          "data": {
            "text/plain": [
              "0.3538500752541386"
            ]
          },
          "metadata": {
            "tags": []
          },
          "execution_count": 28
        }
      ]
    },
    {
      "cell_type": "markdown",
      "metadata": {
        "colab_type": "text",
        "id": "IWP2suTrryO7"
      },
      "source": [
        "## 2) Classification with Logistic Regrssion: accuracy=74.4%"
      ]
    },
    {
      "cell_type": "code",
      "metadata": {
        "colab_type": "code",
        "id": "BgrRvLOcrDgm",
        "outputId": "4a865e54-814c-4db8-a4ae-c74eed69fe6a",
        "colab": {
          "base_uri": "https://localhost:8080/",
          "height": 170
        }
      },
      "source": [
        "from sklearn.linear_model import LogisticRegression\n",
        "model = LogisticRegression()\n",
        "model.fit(x_train, t_train)\n",
        "model.score(x_train, t_train)"
      ],
      "execution_count": 29,
      "outputs": [
        {
          "output_type": "stream",
          "text": [
            "/usr/local/lib/python3.6/dist-packages/sklearn/linear_model/_logistic.py:940: ConvergenceWarning: lbfgs failed to converge (status=1):\n",
            "STOP: TOTAL NO. of ITERATIONS REACHED LIMIT.\n",
            "\n",
            "Increase the number of iterations (max_iter) or scale the data as shown in:\n",
            "    https://scikit-learn.org/stable/modules/preprocessing.html\n",
            "Please also refer to the documentation for alternative solver options:\n",
            "    https://scikit-learn.org/stable/modules/linear_model.html#logistic-regression\n",
            "  extra_warning_msg=_LOGISTIC_SOLVER_CONVERGENCE_MSG)\n"
          ],
          "name": "stderr"
        },
        {
          "output_type": "execute_result",
          "data": {
            "text/plain": [
              "0.8539325842696629"
            ]
          },
          "metadata": {
            "tags": []
          },
          "execution_count": 29
        }
      ]
    },
    {
      "cell_type": "code",
      "metadata": {
        "colab_type": "code",
        "id": "3SpRv2s0r4hX",
        "outputId": "2bf9df66-3b83-402b-e478-0f5d6a87c4ac",
        "colab": {
          "base_uri": "https://localhost:8080/",
          "height": 34
        }
      },
      "source": [
        "model.score(x_test, t_test)"
      ],
      "execution_count": 30,
      "outputs": [
        {
          "output_type": "execute_result",
          "data": {
            "text/plain": [
              "0.7435897435897436"
            ]
          },
          "metadata": {
            "tags": []
          },
          "execution_count": 30
        }
      ]
    },
    {
      "cell_type": "markdown",
      "metadata": {
        "colab_type": "text",
        "id": "q4fic8vYwCtH"
      },
      "source": [
        "## 3) Classification with Supprt Vector Machine: accuracy=79.5%"
      ]
    },
    {
      "cell_type": "code",
      "metadata": {
        "colab_type": "code",
        "id": "DNCj3I6Fv_GI",
        "outputId": "0414cafa-6906-44e6-c65a-d42895a2a93c",
        "colab": {
          "base_uri": "https://localhost:8080/",
          "height": 34
        }
      },
      "source": [
        "# Min-Max Scaling between 0 and 1\n",
        "from sklearn.preprocessing import MinMaxScaler\n",
        "scaler = MinMaxScaler()\n",
        "scaler.fit(x_train) "
      ],
      "execution_count": 31,
      "outputs": [
        {
          "output_type": "execute_result",
          "data": {
            "text/plain": [
              "MinMaxScaler(copy=True, feature_range=(0, 1))"
            ]
          },
          "metadata": {
            "tags": []
          },
          "execution_count": 31
        }
      ]
    },
    {
      "cell_type": "code",
      "metadata": {
        "colab_type": "code",
        "id": "m1Ujls2c0kHG",
        "colab": {}
      },
      "source": [
        "x_train1 = scaler.transform(x_train)\n",
        "x_test1 = scaler.transform(x_test)"
      ],
      "execution_count": 0,
      "outputs": []
    },
    {
      "cell_type": "code",
      "metadata": {
        "colab_type": "code",
        "id": "wEmBNFiK0qPm",
        "outputId": "782c2349-4796-4eca-9a50-ac6076a6e33b",
        "colab": {
          "base_uri": "https://localhost:8080/",
          "height": 34
        }
      },
      "source": [
        "from sklearn.svm import SVC\n",
        "model = SVC()\n",
        "model.fit(x_train1, t_train)\n",
        "model.score(x_train1, t_train)"
      ],
      "execution_count": 33,
      "outputs": [
        {
          "output_type": "execute_result",
          "data": {
            "text/plain": [
              "0.8539325842696629"
            ]
          },
          "metadata": {
            "tags": []
          },
          "execution_count": 33
        }
      ]
    },
    {
      "cell_type": "code",
      "metadata": {
        "colab_type": "code",
        "id": "ZIOVhINr0tXH",
        "outputId": "84f90730-d12b-4a4b-d19d-f003609151ca",
        "colab": {
          "base_uri": "https://localhost:8080/",
          "height": 34
        }
      },
      "source": [
        "model.score(x_test1, t_test)"
      ],
      "execution_count": 34,
      "outputs": [
        {
          "output_type": "execute_result",
          "data": {
            "text/plain": [
              "0.7948717948717948"
            ]
          },
          "metadata": {
            "tags": []
          },
          "execution_count": 34
        }
      ]
    },
    {
      "cell_type": "markdown",
      "metadata": {
        "colab_type": "text",
        "id": "B9LkYrPp1tH0"
      },
      "source": [
        "## 4) Classification with Random Forest; accuracy=76.9%"
      ]
    },
    {
      "cell_type": "code",
      "metadata": {
        "colab_type": "code",
        "id": "-bIMfE6K1xBJ",
        "outputId": "6b8b9975-b0b0-43de-fd83-bb404381c1e8",
        "colab": {
          "base_uri": "https://localhost:8080/",
          "height": 34
        }
      },
      "source": [
        "from sklearn.ensemble import RandomForestClassifier\n",
        "model = RandomForestClassifier()\n",
        "model.fit(x_train, t_train)\n",
        "model.score(x_train, t_train)"
      ],
      "execution_count": 35,
      "outputs": [
        {
          "output_type": "execute_result",
          "data": {
            "text/plain": [
              "1.0"
            ]
          },
          "metadata": {
            "tags": []
          },
          "execution_count": 35
        }
      ]
    },
    {
      "cell_type": "code",
      "metadata": {
        "colab_type": "code",
        "id": "ijrKtK9_17tH",
        "outputId": "a9ed3e2d-ce13-4868-fc08-34782be91b30",
        "colab": {
          "base_uri": "https://localhost:8080/",
          "height": 34
        }
      },
      "source": [
        "model.score(x_test, t_test)"
      ],
      "execution_count": 36,
      "outputs": [
        {
          "output_type": "execute_result",
          "data": {
            "text/plain": [
              "0.7692307692307693"
            ]
          },
          "metadata": {
            "tags": []
          },
          "execution_count": 36
        }
      ]
    },
    {
      "cell_type": "markdown",
      "metadata": {
        "colab_type": "text",
        "id": "Ui6vme1U2A_I"
      },
      "source": [
        "## 5) Classification with XGBoots: accuracy=69.2%"
      ]
    },
    {
      "cell_type": "markdown",
      "metadata": {
        "colab_type": "text",
        "id": "taoUjLfi2HrJ"
      },
      "source": [
        "### 1. Environmental Setting for XGBoost"
      ]
    },
    {
      "cell_type": "code",
      "metadata": {
        "colab_type": "code",
        "id": "c8jHGnqF1-F3",
        "outputId": "9c3e5b1f-bcba-423a-c2ac-105107dc6b22",
        "colab": {
          "base_uri": "https://localhost:8080/",
          "height": 68
        }
      },
      "source": [
        "!pip3 install xgboost"
      ],
      "execution_count": 37,
      "outputs": [
        {
          "output_type": "stream",
          "text": [
            "Requirement already satisfied: xgboost in /usr/local/lib/python3.6/dist-packages (0.90)\n",
            "Requirement already satisfied: scipy in /usr/local/lib/python3.6/dist-packages (from xgboost) (1.4.1)\n",
            "Requirement already satisfied: numpy in /usr/local/lib/python3.6/dist-packages (from xgboost) (1.17.5)\n"
          ],
          "name": "stdout"
        }
      ]
    },
    {
      "cell_type": "code",
      "metadata": {
        "colab_type": "code",
        "id": "xjqJJYrB2WOj",
        "colab": {}
      },
      "source": [
        "!pip3 install -q pydot"
      ],
      "execution_count": 0,
      "outputs": []
    },
    {
      "cell_type": "code",
      "metadata": {
        "colab_type": "code",
        "id": "2w7Z7Hx02LKx",
        "outputId": "78b0ca91-945e-45b7-b4f5-b70bd1ba9c4b",
        "colab": {
          "base_uri": "https://localhost:8080/",
          "height": 34
        }
      },
      "source": [
        "!pip3 install graphviz"
      ],
      "execution_count": 39,
      "outputs": [
        {
          "output_type": "stream",
          "text": [
            "Requirement already satisfied: graphviz in /usr/local/lib/python3.6/dist-packages (0.10.1)\n"
          ],
          "name": "stdout"
        }
      ]
    },
    {
      "cell_type": "code",
      "metadata": {
        "colab_type": "code",
        "id": "PLql8eKV2OrP",
        "colab": {}
      },
      "source": [
        "import pandas as pd\n",
        "from sklearn.model_selection import train_test_split\n",
        "import xgboost as xgb\n",
        "import matplotlib"
      ],
      "execution_count": 0,
      "outputs": []
    },
    {
      "cell_type": "code",
      "metadata": {
        "colab_type": "code",
        "id": "nId5cqt43H5J",
        "colab": {}
      },
      "source": [
        "# The pass for the dataset should be adjusted if needed.\n",
        "df = pd.read_csv('drive/My Drive/halddata.csv')\n",
        "t = df.iloc[:, -1].values\n",
        "x = df.iloc[:, :-1].values\n",
        "from sklearn.model_selection import train_test_split\n",
        "x_train, x_test, t_train, t_test = train_test_split(x, t, test_size=0.3, random_state=0)"
      ],
      "execution_count": 0,
      "outputs": []
    },
    {
      "cell_type": "markdown",
      "metadata": {
        "colab_type": "text",
        "id": "Fg8R8Sd5fa2T"
      },
      "source": [
        "### 2. XGBoost"
      ]
    },
    {
      "cell_type": "code",
      "metadata": {
        "colab_type": "code",
        "id": "h5KwiQ343SBE",
        "colab": {}
      },
      "source": [
        "# Creating training data for XGBoost\n",
        "dm_train = xgb.DMatrix(x_train, label=t_train)\n",
        "# Parameter setting\n",
        "param = {\n",
        "    'max_depth': 2, \n",
        "    'eta': 1, \n",
        "    'objective': 'binary:logistic'\n",
        "}\n",
        "model = xgb.train(param, dm_train)"
      ],
      "execution_count": 0,
      "outputs": []
    },
    {
      "cell_type": "code",
      "metadata": {
        "colab_type": "code",
        "id": "Ru9Asor84OHz",
        "outputId": "d2cf1826-10d3-4aff-8291-c69b9429b827",
        "colab": {
          "base_uri": "https://localhost:8080/",
          "height": 34
        }
      },
      "source": [
        "# Creating test data for XGBoostr\n",
        "dm_test = xgb.DMatrix(x_test)\n",
        "# prediction\n",
        "t_pred = model.predict(dm_test)\n",
        "# Accuracy for test data\n",
        "accuracy = sum(((t_pred > 0.5) & (t_test == 1)) | ((t_pred <= 0.5) & (t_test == 0))) / len(t_pred)\n",
        "accuracy"
      ],
      "execution_count": 43,
      "outputs": [
        {
          "output_type": "execute_result",
          "data": {
            "text/plain": [
              "0.6923076923076923"
            ]
          },
          "metadata": {
            "tags": []
          },
          "execution_count": 43
        }
      ]
    },
    {
      "cell_type": "markdown",
      "metadata": {
        "colab_type": "text",
        "id": "kW-Hq8L_UTKA"
      },
      "source": [
        "## 6) Classification with NLDR: accuracy=79.5%"
      ]
    },
    {
      "cell_type": "markdown",
      "metadata": {
        "colab_type": "text",
        "id": "tyrjNeYEUaL6"
      },
      "source": [
        "- Accuracy with training data was 84.0%\n",
        "- Accuracy with Test data was 79.5%\n",
        "- The caliculation was performed with Mathematica and the result is written in Classificaiton with NLDR.nb"
      ]
    },
    {
      "cell_type": "code",
      "metadata": {
        "id": "bLxXR2Q_J6fa",
        "colab_type": "code",
        "colab": {}
      },
      "source": [
        ""
      ],
      "execution_count": 0,
      "outputs": []
    }
  ]
}